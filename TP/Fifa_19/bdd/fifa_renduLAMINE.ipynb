{
 "cells": [
  {
   "cell_type": "code",
   "execution_count": 291,
   "metadata": {},
   "outputs": [],
   "source": [
    "#importer sqlite3\n",
    "import sqlite3 as sq\n",
    "import pandas as pd\n",
    "import numpy as np"
   ]
  },
  {
   "cell_type": "code",
   "execution_count": 292,
   "metadata": {},
   "outputs": [],
   "source": [
    "# création de connexion entre le projet et la BD\n",
    "conn = sq.connect(\"C:\\\\Users\\\\utilisateur\\\\Documents\\\\DATA\\\\Fifa_19\\\\bdd\\\\V1_Fifa19-Clean- textNumber as numberNumber.db\")"
   ]
  },
  {
   "cell_type": "code",
   "execution_count": 293,
   "metadata": {},
   "outputs": [],
   "source": [
    "# Le cursor c'est le vihécule qui prends des requette a la bd et recup des results \n",
    "cursor = conn.cursor()"
   ]
  },
  {
   "cell_type": "code",
   "execution_count": 294,
   "metadata": {},
   "outputs": [
    {
     "data": {
      "text/plain": [
       "<sqlite3.Cursor at 0x12d83beec00>"
      ]
     },
     "execution_count": 294,
     "metadata": {},
     "output_type": "execute_result"
    }
   ],
   "source": [
    "# la fonction qui permet d'executer les requettes, limit5: pour ne pas tt télécharger \"sans la fonction limit ca ne fonction pas\"\n",
    "cursor.execute(\"select*from fifa19 limit 10  \")"
   ]
  },
  {
   "cell_type": "code",
   "execution_count": 295,
   "metadata": {},
   "outputs": [
    {
     "name": "stdout",
     "output_type": "stream",
     "text": [
      "[(158023, 'L. Messi', 31, 'https://cdn.sofifa.org/players/4/19/158023.png', 'Argentina', 'https://cdn.sofifa.org/flags/52.png', 94, 94, 'FC Barcelona', 'https://cdn.sofifa.org/teams/2/light/241.png', '€110.5M', '€565K', 2202, 'Left', 5, 4, 4, 'Medium/ Medium', 'Messi', 'Yes', 'RF', 10, 'Jul 1, 2004', '', 2021, \"5'7\", '159lbs', '88+2', '88+2', '88+2', '92+2', '93+2', '93+2', '93+2', '92+2', '93+2', '93+2', '93+2', '91+2', '84+2', '84+2', '84+2', '91+2', '64+2', '61+2', '61+2', '61+2', '64+2', '59+2', '47+2', '47+2', '47+2', '59+2', 84, 95, 70, 90, 86, 97, 93, 94, 87, 96, 91, 86, 91, 95, 95, 85, 68, 72, 59, 94, 48, 22, 94, 94, 75, 96, 33, 28, 26, 6, 11, 15, 14, 8, '€226.5M'), (20801, 'Cristiano Ronaldo', 33, 'https://cdn.sofifa.org/players/4/19/20801.png', 'Portugal', 'https://cdn.sofifa.org/flags/38.png', 94, 94, 'Juventus', 'https://cdn.sofifa.org/teams/2/light/45.png', '€77M', '€405K', 2228, 'Right', 5, 4, 5, 'High/ Low', 'C. Ronaldo', 'Yes', 'ST', 7, 'Jul 10, 2018', '', 2022, \"6'2\", '183lbs', '91+3', '91+3', '91+3', '89+3', '90+3', '90+3', '90+3', '89+3', '88+3', '88+3', '88+3', '88+3', '81+3', '81+3', '81+3', '88+3', '65+3', '61+3', '61+3', '61+3', '65+3', '61+3', '53+3', '53+3', '53+3', '61+3', 84, 94, 89, 81, 87, 88, 81, 76, 77, 94, 89, 91, 87, 96, 70, 95, 95, 88, 79, 93, 63, 29, 95, 82, 85, 95, 28, 31, 23, 7, 11, 15, 14, 11, '€127.1M'), (190871, 'Neymar Jr', 26, 'https://cdn.sofifa.org/players/4/19/190871.png', 'Brazil', 'https://cdn.sofifa.org/flags/54.png', 92, 93, 'Paris Saint-Germain', 'https://cdn.sofifa.org/teams/2/light/73.png', '€118.5M', '€290K', 2143, 'Right', 5, 5, 5, 'High/ Medium', 'Neymar', 'Yes', 'LW', 10, 'Aug 3, 2017', '', 2022, \"5'9\", '150lbs', '84+3', '84+3', '84+3', '89+3', '89+3', '89+3', '89+3', '89+3', '89+3', '89+3', '89+3', '88+3', '81+3', '81+3', '81+3', '88+3', '65+3', '60+3', '60+3', '60+3', '65+3', '60+3', '47+3', '47+3', '47+3', '60+3', 79, 87, 62, 84, 84, 96, 88, 87, 78, 95, 94, 90, 96, 94, 84, 80, 61, 81, 49, 82, 56, 36, 89, 87, 81, 94, 27, 24, 33, 9, 9, 15, 15, 11, '€228.1M'), (193080, 'De Gea', 27, 'https://cdn.sofifa.org/players/4/19/193080.png', 'Spain', 'https://cdn.sofifa.org/flags/45.png', 91, 93, 'Manchester United', 'https://cdn.sofifa.org/teams/2/light/11.png', '€72M', '€260K', 1471, 'Right', 4, 3, 1, 'Medium/ Medium', 'Lean', 'Yes', 'GK', 1, 'Jul 1, 2011', '', 2020, \"6'4\", '168lbs', '', '', '', '', '', '', '', '', '', '', '', '', '', '', '', '', '', '', '', '', '', '', '', '', '', '', 17, 13, 21, 50, 13, 18, 21, 19, 51, 42, 57, 58, 60, 90, 43, 31, 67, 43, 64, 12, 38, 30, 12, 68, 40, 68, 15, 21, 13, 90, 85, 87, 88, 94, '€138.6M'), (192985, 'K. De Bruyne', 27, 'https://cdn.sofifa.org/players/4/19/192985.png', 'Belgium', 'https://cdn.sofifa.org/flags/7.png', 91, 92, 'Manchester City', 'https://cdn.sofifa.org/teams/2/light/10.png', '€102M', '€355K', 2281, 'Right', 4, 5, 4, 'High/ High', 'Normal', 'Yes', 'RCM', 7, 'Aug 30, 2015', '', 2023, \"5'11\", '154lbs', '82+3', '82+3', '82+3', '87+3', '87+3', '87+3', '87+3', '87+3', '88+3', '88+3', '88+3', '88+3', '87+3', '87+3', '87+3', '88+3', '77+3', '77+3', '77+3', '77+3', '77+3', '73+3', '66+3', '66+3', '66+3', '73+3', 93, 82, 55, 92, 82, 86, 85, 83, 91, 91, 78, 76, 79, 91, 77, 91, 63, 90, 75, 91, 76, 61, 87, 94, 79, 88, 68, 58, 51, 15, 13, 5, 10, 13, '€196.4M'), (183277, 'E. Hazard', 27, 'https://cdn.sofifa.org/players/4/19/183277.png', 'Belgium', 'https://cdn.sofifa.org/flags/7.png', 91, 91, 'Chelsea', 'https://cdn.sofifa.org/teams/2/light/5.png', '€93M', '€340K', 2142, 'Right', 4, 4, 4, 'High/ Medium', 'Normal', 'Yes', 'LF', 10, 'Jul 1, 2012', '', 2020, \"5'8\", '163lbs', '83+3', '83+3', '83+3', '89+3', '88+3', '88+3', '88+3', '89+3', '89+3', '89+3', '89+3', '89+3', '82+3', '82+3', '82+3', '89+3', '66+3', '63+3', '63+3', '63+3', '66+3', '60+3', '49+3', '49+3', '49+3', '60+3', 81, 84, 61, 89, 80, 95, 83, 79, 83, 94, 94, 88, 95, 90, 94, 82, 56, 83, 66, 80, 54, 41, 87, 89, 86, 91, 34, 27, 22, 11, 12, 6, 8, 8, '€172.1M'), (177003, 'L. Modrić', 32, 'https://cdn.sofifa.org/players/4/19/177003.png', 'Croatia', 'https://cdn.sofifa.org/flags/10.png', 91, 91, 'Real Madrid', 'https://cdn.sofifa.org/teams/2/light/243.png', '€67M', '€420K', 2280, 'Right', 4, 4, 4, 'High/ High', 'Lean', 'Yes', 'RCM', 10, 'Aug 1, 2012', '', 2020, \"5'8\", '146lbs', '77+3', '77+3', '77+3', '85+3', '84+3', '84+3', '84+3', '85+3', '87+3', '87+3', '87+3', '86+3', '88+3', '88+3', '88+3', '86+3', '82+3', '81+3', '81+3', '81+3', '82+3', '79+3', '71+3', '71+3', '71+3', '79+3', 86, 72, 55, 93, 76, 90, 85, 78, 88, 93, 80, 72, 93, 90, 94, 79, 68, 89, 58, 82, 62, 83, 79, 92, 82, 84, 60, 76, 73, 13, 9, 7, 14, 9, '€137.4M'), (176580, 'L. Suárez', 31, 'https://cdn.sofifa.org/players/4/19/176580.png', 'Uruguay', 'https://cdn.sofifa.org/flags/60.png', 91, 91, 'FC Barcelona', 'https://cdn.sofifa.org/teams/2/light/241.png', '€80M', '€455K', 2346, 'Right', 5, 4, 3, 'High/ Medium', 'Normal', 'Yes', 'RS', 9, 'Jul 11, 2014', '', 2021, \"6'0\", '190lbs', '87+5', '87+5', '87+5', '86+5', '87+5', '87+5', '87+5', '86+5', '85+5', '85+5', '85+5', '84+5', '79+5', '79+5', '79+5', '84+5', '69+5', '68+5', '68+5', '68+5', '69+5', '66+5', '63+5', '63+5', '63+5', '66+5', 77, 93, 77, 82, 88, 87, 86, 84, 64, 90, 86, 75, 82, 92, 83, 86, 69, 90, 83, 85, 87, 41, 92, 84, 85, 85, 62, 45, 38, 27, 25, 31, 33, 37, '€164M'), (155862, 'Sergio Ramos', 32, 'https://cdn.sofifa.org/players/4/19/155862.png', 'Spain', 'https://cdn.sofifa.org/flags/45.png', 91, 91, 'Real Madrid', 'https://cdn.sofifa.org/teams/2/light/243.png', '€51M', '€380K', 2201, 'Right', 4, 3, 3, 'High/ Medium', 'Normal', 'Yes', 'RCB', 15, 'Aug 1, 2005', '', 2020, \"6'0\", '181lbs', '73+3', '73+3', '73+3', '70+3', '71+3', '71+3', '71+3', '70+3', '71+3', '71+3', '71+3', '72+3', '75+3', '75+3', '75+3', '72+3', '81+3', '84+3', '84+3', '84+3', '81+3', '84+3', '87+3', '87+3', '87+3', '84+3', 66, 60, 91, 78, 66, 63, 74, 72, 77, 84, 76, 75, 78, 85, 66, 79, 93, 84, 83, 59, 88, 90, 60, 63, 75, 82, 87, 92, 91, 11, 8, 9, 7, 11, '€104.6M'), (200389, 'J. Oblak', 25, 'https://cdn.sofifa.org/players/4/19/200389.png', 'Slovenia', 'https://cdn.sofifa.org/flags/44.png', 90, 93, 'Atlético Madrid', 'https://cdn.sofifa.org/teams/2/light/240.png', '€68M', '€94K', 1331, 'Right', 3, 3, 1, 'Medium/ Medium', 'Normal', 'Yes', 'GK', 1, 'Jul 16, 2014', '', 2021, \"6'2\", '192lbs', '', '', '', '', '', '', '', '', '', '', '', '', '', '', '', '', '', '', '', '', '', '', '', '', '', '', 13, 11, 15, 29, 13, 12, 13, 14, 26, 16, 43, 60, 67, 86, 49, 22, 76, 41, 78, 12, 34, 19, 11, 70, 11, 70, 27, 12, 18, 86, 92, 78, 88, 89, '€144.5M')]\n"
     ]
    }
   ],
   "source": [
    "result=cursor.fetchall()\n",
    "print(result)"
   ]
  },
  {
   "cell_type": "code",
   "execution_count": null,
   "metadata": {},
   "outputs": [],
   "source": []
  },
  {
   "cell_type": "code",
   "execution_count": 296,
   "metadata": {},
   "outputs": [
    {
     "data": {
      "text/html": [
       "<div>\n",
       "<style scoped>\n",
       "    .dataframe tbody tr th:only-of-type {\n",
       "        vertical-align: middle;\n",
       "    }\n",
       "\n",
       "    .dataframe tbody tr th {\n",
       "        vertical-align: top;\n",
       "    }\n",
       "\n",
       "    .dataframe thead th {\n",
       "        text-align: right;\n",
       "    }\n",
       "</style>\n",
       "<table border=\"1\" class=\"dataframe\">\n",
       "  <thead>\n",
       "    <tr style=\"text-align: right;\">\n",
       "      <th></th>\n",
       "      <th>ID</th>\n",
       "      <th>Name</th>\n",
       "      <th>Age</th>\n",
       "      <th>Photo</th>\n",
       "      <th>Nationality</th>\n",
       "      <th>Flag</th>\n",
       "      <th>Overall</th>\n",
       "      <th>Potential</th>\n",
       "      <th>Club</th>\n",
       "      <th>Club Logo</th>\n",
       "      <th>...</th>\n",
       "      <th>Composure</th>\n",
       "      <th>Marking</th>\n",
       "      <th>StandingTackle</th>\n",
       "      <th>SlidingTackle</th>\n",
       "      <th>GKDiving</th>\n",
       "      <th>GKHandling</th>\n",
       "      <th>GKKicking</th>\n",
       "      <th>GKPositioning</th>\n",
       "      <th>GKReflexes</th>\n",
       "      <th>Release Clause</th>\n",
       "    </tr>\n",
       "  </thead>\n",
       "  <tbody>\n",
       "    <tr>\n",
       "      <th>0</th>\n",
       "      <td>158023</td>\n",
       "      <td>L. Messi</td>\n",
       "      <td>31</td>\n",
       "      <td>https://cdn.sofifa.org/players/4/19/158023.png</td>\n",
       "      <td>Argentina</td>\n",
       "      <td>https://cdn.sofifa.org/flags/52.png</td>\n",
       "      <td>94</td>\n",
       "      <td>94</td>\n",
       "      <td>FC Barcelona</td>\n",
       "      <td>https://cdn.sofifa.org/teams/2/light/241.png</td>\n",
       "      <td>...</td>\n",
       "      <td>96</td>\n",
       "      <td>33</td>\n",
       "      <td>28</td>\n",
       "      <td>26</td>\n",
       "      <td>6</td>\n",
       "      <td>11</td>\n",
       "      <td>15</td>\n",
       "      <td>14</td>\n",
       "      <td>8</td>\n",
       "      <td>€226.5M</td>\n",
       "    </tr>\n",
       "    <tr>\n",
       "      <th>1</th>\n",
       "      <td>20801</td>\n",
       "      <td>Cristiano Ronaldo</td>\n",
       "      <td>33</td>\n",
       "      <td>https://cdn.sofifa.org/players/4/19/20801.png</td>\n",
       "      <td>Portugal</td>\n",
       "      <td>https://cdn.sofifa.org/flags/38.png</td>\n",
       "      <td>94</td>\n",
       "      <td>94</td>\n",
       "      <td>Juventus</td>\n",
       "      <td>https://cdn.sofifa.org/teams/2/light/45.png</td>\n",
       "      <td>...</td>\n",
       "      <td>95</td>\n",
       "      <td>28</td>\n",
       "      <td>31</td>\n",
       "      <td>23</td>\n",
       "      <td>7</td>\n",
       "      <td>11</td>\n",
       "      <td>15</td>\n",
       "      <td>14</td>\n",
       "      <td>11</td>\n",
       "      <td>€127.1M</td>\n",
       "    </tr>\n",
       "    <tr>\n",
       "      <th>2</th>\n",
       "      <td>190871</td>\n",
       "      <td>Neymar Jr</td>\n",
       "      <td>26</td>\n",
       "      <td>https://cdn.sofifa.org/players/4/19/190871.png</td>\n",
       "      <td>Brazil</td>\n",
       "      <td>https://cdn.sofifa.org/flags/54.png</td>\n",
       "      <td>92</td>\n",
       "      <td>93</td>\n",
       "      <td>Paris Saint-Germain</td>\n",
       "      <td>https://cdn.sofifa.org/teams/2/light/73.png</td>\n",
       "      <td>...</td>\n",
       "      <td>94</td>\n",
       "      <td>27</td>\n",
       "      <td>24</td>\n",
       "      <td>33</td>\n",
       "      <td>9</td>\n",
       "      <td>9</td>\n",
       "      <td>15</td>\n",
       "      <td>15</td>\n",
       "      <td>11</td>\n",
       "      <td>€228.1M</td>\n",
       "    </tr>\n",
       "    <tr>\n",
       "      <th>3</th>\n",
       "      <td>193080</td>\n",
       "      <td>De Gea</td>\n",
       "      <td>27</td>\n",
       "      <td>https://cdn.sofifa.org/players/4/19/193080.png</td>\n",
       "      <td>Spain</td>\n",
       "      <td>https://cdn.sofifa.org/flags/45.png</td>\n",
       "      <td>91</td>\n",
       "      <td>93</td>\n",
       "      <td>Manchester United</td>\n",
       "      <td>https://cdn.sofifa.org/teams/2/light/11.png</td>\n",
       "      <td>...</td>\n",
       "      <td>68</td>\n",
       "      <td>15</td>\n",
       "      <td>21</td>\n",
       "      <td>13</td>\n",
       "      <td>90</td>\n",
       "      <td>85</td>\n",
       "      <td>87</td>\n",
       "      <td>88</td>\n",
       "      <td>94</td>\n",
       "      <td>€138.6M</td>\n",
       "    </tr>\n",
       "    <tr>\n",
       "      <th>4</th>\n",
       "      <td>192985</td>\n",
       "      <td>K. De Bruyne</td>\n",
       "      <td>27</td>\n",
       "      <td>https://cdn.sofifa.org/players/4/19/192985.png</td>\n",
       "      <td>Belgium</td>\n",
       "      <td>https://cdn.sofifa.org/flags/7.png</td>\n",
       "      <td>91</td>\n",
       "      <td>92</td>\n",
       "      <td>Manchester City</td>\n",
       "      <td>https://cdn.sofifa.org/teams/2/light/10.png</td>\n",
       "      <td>...</td>\n",
       "      <td>88</td>\n",
       "      <td>68</td>\n",
       "      <td>58</td>\n",
       "      <td>51</td>\n",
       "      <td>15</td>\n",
       "      <td>13</td>\n",
       "      <td>5</td>\n",
       "      <td>10</td>\n",
       "      <td>13</td>\n",
       "      <td>€196.4M</td>\n",
       "    </tr>\n",
       "  </tbody>\n",
       "</table>\n",
       "<p>5 rows × 88 columns</p>\n",
       "</div>"
      ],
      "text/plain": [
       "       ID               Name  Age  \\\n",
       "0  158023           L. Messi   31   \n",
       "1   20801  Cristiano Ronaldo   33   \n",
       "2  190871          Neymar Jr   26   \n",
       "3  193080             De Gea   27   \n",
       "4  192985       K. De Bruyne   27   \n",
       "\n",
       "                                            Photo Nationality  \\\n",
       "0  https://cdn.sofifa.org/players/4/19/158023.png   Argentina   \n",
       "1   https://cdn.sofifa.org/players/4/19/20801.png    Portugal   \n",
       "2  https://cdn.sofifa.org/players/4/19/190871.png      Brazil   \n",
       "3  https://cdn.sofifa.org/players/4/19/193080.png       Spain   \n",
       "4  https://cdn.sofifa.org/players/4/19/192985.png     Belgium   \n",
       "\n",
       "                                  Flag  Overall  Potential  \\\n",
       "0  https://cdn.sofifa.org/flags/52.png       94         94   \n",
       "1  https://cdn.sofifa.org/flags/38.png       94         94   \n",
       "2  https://cdn.sofifa.org/flags/54.png       92         93   \n",
       "3  https://cdn.sofifa.org/flags/45.png       91         93   \n",
       "4   https://cdn.sofifa.org/flags/7.png       91         92   \n",
       "\n",
       "                  Club                                     Club Logo  ...  \\\n",
       "0         FC Barcelona  https://cdn.sofifa.org/teams/2/light/241.png  ...   \n",
       "1             Juventus   https://cdn.sofifa.org/teams/2/light/45.png  ...   \n",
       "2  Paris Saint-Germain   https://cdn.sofifa.org/teams/2/light/73.png  ...   \n",
       "3    Manchester United   https://cdn.sofifa.org/teams/2/light/11.png  ...   \n",
       "4      Manchester City   https://cdn.sofifa.org/teams/2/light/10.png  ...   \n",
       "\n",
       "  Composure Marking  StandingTackle SlidingTackle GKDiving GKHandling  \\\n",
       "0        96      33              28            26        6         11   \n",
       "1        95      28              31            23        7         11   \n",
       "2        94      27              24            33        9          9   \n",
       "3        68      15              21            13       90         85   \n",
       "4        88      68              58            51       15         13   \n",
       "\n",
       "  GKKicking GKPositioning GKReflexes Release Clause  \n",
       "0        15            14          8        €226.5M  \n",
       "1        15            14         11        €127.1M  \n",
       "2        15            15         11        €228.1M  \n",
       "3        87            88         94        €138.6M  \n",
       "4         5            10         13        €196.4M  \n",
       "\n",
       "[5 rows x 88 columns]"
      ]
     },
     "execution_count": 296,
     "metadata": {},
     "output_type": "execute_result"
    }
   ],
   "source": [
    "# création d'un DataFrame\n",
    "\n",
    "\n",
    "#df = pd.DataFrame(cursor.fetchall())\n",
    "# créer une connexion entre dataframe et table\n",
    "df=pd.read_sql_query(\"SELECT * FROM fifa19\" , conn)\n",
    "df.head(5)\n",
    "#df = pd.DataFrame(columns=diabetes[\"feature_names\"], data=diabetes.data)\n",
    "# chager les lignes en columns\n",
    "#df = pd.DataFrame(columns = cursor.fetchall())"
   ]
  },
  {
   "cell_type": "code",
   "execution_count": 297,
   "metadata": {},
   "outputs": [
    {
     "data": {
      "text/plain": [
       "Index(['ID', 'Name', 'Age', 'Photo', 'Nationality', 'Flag', 'Overall',\n",
       "       'Potential', 'Club', 'Club Logo', 'Value', 'Wage', 'Special',\n",
       "       'Preferred Foot', 'International Reputation', 'Weak Foot',\n",
       "       'Skill Moves', 'Work Rate', 'Body Type', 'Real Face', 'Position',\n",
       "       'Jersey Number', 'Joined', 'Loaned From', 'Contract Valid Until',\n",
       "       'Height', 'Weight', 'LS', 'ST', 'RS', 'LW', 'LF', 'CF', 'RF', 'RW',\n",
       "       'LAM', 'CAM', 'RAM', 'LM', 'LCM', 'CM', 'RCM', 'RM', 'LWB', 'LDM',\n",
       "       'CDM', 'RDM', 'RWB', 'LB', 'LCB', 'CB', 'RCB', 'RB', 'Crossing',\n",
       "       'Finishing', 'HeadingAccuracy', 'ShortPassing', 'Volleys', 'Dribbling',\n",
       "       'Curve', 'FKAccuracy', 'LongPassing', 'BallControl', 'Acceleration',\n",
       "       'SprintSpeed', 'Agility', 'Reactions', 'Balance', 'ShotPower',\n",
       "       'Jumping', 'Stamina', 'Strength', 'LongShots', 'Aggression',\n",
       "       'Interceptions', 'Positioning', 'Vision', 'Penalties', 'Composure',\n",
       "       'Marking', 'StandingTackle', 'SlidingTackle', 'GKDiving', 'GKHandling',\n",
       "       'GKKicking', 'GKPositioning', 'GKReflexes', 'Release Clause'],\n",
       "      dtype='object')"
      ]
     },
     "execution_count": 297,
     "metadata": {},
     "output_type": "execute_result"
    }
   ],
   "source": [
    "df.columns"
   ]
  },
  {
   "cell_type": "code",
   "execution_count": 298,
   "metadata": {},
   "outputs": [
    {
     "data": {
      "text/plain": [
       "Index(['ID', 'Name', 'Age', 'Photo', 'Nationality', 'Flag', 'Overall',\n",
       "       'Potential', 'Club', 'Club Logo', 'Value', 'Wage', 'Special',\n",
       "       'Preferred Foot', 'International Reputation', 'Weak Foot',\n",
       "       'Skill Moves', 'Work Rate', 'Body Type', 'Real Face', 'Position',\n",
       "       'Jersey Number', 'Joined', 'Loaned From', 'Contract Valid Until',\n",
       "       'Height', 'Weight', 'LS', 'ST', 'RS', 'LW', 'LF', 'CF', 'RF', 'RW',\n",
       "       'LAM', 'CAM', 'RAM', 'LM', 'LCM', 'CM', 'RCM', 'RM', 'LWB', 'LDM',\n",
       "       'CDM', 'RDM', 'RWB', 'LB', 'LCB', 'CB', 'RCB', 'RB', 'Crossing',\n",
       "       'Finishing', 'HeadingAccuracy', 'ShortPassing', 'Volleys', 'Dribbling',\n",
       "       'Curve', 'FKAccuracy', 'LongPassing', 'BallControl', 'Acceleration',\n",
       "       'SprintSpeed', 'Agility', 'Reactions', 'Balance', 'ShotPower',\n",
       "       'Jumping', 'Stamina', 'Strength', 'LongShots', 'Aggression',\n",
       "       'Interceptions', 'Positioning', 'Vision', 'Penalties', 'Composure',\n",
       "       'Marking', 'StandingTackle', 'SlidingTackle', 'GKDiving', 'GKHandling',\n",
       "       'GKKicking', 'GKPositioning', 'GKReflexes', 'Release Clause'],\n",
       "      dtype='object')"
      ]
     },
     "execution_count": 298,
     "metadata": {},
     "output_type": "execute_result"
    }
   ],
   "source": [
    "df.columns"
   ]
  },
  {
   "cell_type": "code",
   "execution_count": null,
   "metadata": {},
   "outputs": [],
   "source": [
    " \n",
    "    "
   ]
  },
  {
   "cell_type": "code",
   "execution_count": 299,
   "metadata": {},
   "outputs": [
    {
     "data": {
      "text/html": [
       "<div>\n",
       "<style scoped>\n",
       "    .dataframe tbody tr th:only-of-type {\n",
       "        vertical-align: middle;\n",
       "    }\n",
       "\n",
       "    .dataframe tbody tr th {\n",
       "        vertical-align: top;\n",
       "    }\n",
       "\n",
       "    .dataframe thead th {\n",
       "        text-align: right;\n",
       "    }\n",
       "</style>\n",
       "<table border=\"1\" class=\"dataframe\">\n",
       "  <thead>\n",
       "    <tr style=\"text-align: right;\">\n",
       "      <th></th>\n",
       "      <th>Wage</th>\n",
       "    </tr>\n",
       "  </thead>\n",
       "  <tbody>\n",
       "    <tr>\n",
       "      <th>0</th>\n",
       "      <td>€565K</td>\n",
       "    </tr>\n",
       "    <tr>\n",
       "      <th>1</th>\n",
       "      <td>€405K</td>\n",
       "    </tr>\n",
       "    <tr>\n",
       "      <th>2</th>\n",
       "      <td>€290K</td>\n",
       "    </tr>\n",
       "    <tr>\n",
       "      <th>3</th>\n",
       "      <td>€260K</td>\n",
       "    </tr>\n",
       "    <tr>\n",
       "      <th>4</th>\n",
       "      <td>€355K</td>\n",
       "    </tr>\n",
       "    <tr>\n",
       "      <th>...</th>\n",
       "      <td>...</td>\n",
       "    </tr>\n",
       "    <tr>\n",
       "      <th>18202</th>\n",
       "      <td>€1K</td>\n",
       "    </tr>\n",
       "    <tr>\n",
       "      <th>18203</th>\n",
       "      <td>€1K</td>\n",
       "    </tr>\n",
       "    <tr>\n",
       "      <th>18204</th>\n",
       "      <td>€1K</td>\n",
       "    </tr>\n",
       "    <tr>\n",
       "      <th>18205</th>\n",
       "      <td>€1K</td>\n",
       "    </tr>\n",
       "    <tr>\n",
       "      <th>18206</th>\n",
       "      <td>€1K</td>\n",
       "    </tr>\n",
       "  </tbody>\n",
       "</table>\n",
       "<p>18207 rows × 1 columns</p>\n",
       "</div>"
      ],
      "text/plain": [
       "        Wage\n",
       "0      €565K\n",
       "1      €405K\n",
       "2      €290K\n",
       "3      €260K\n",
       "4      €355K\n",
       "...      ...\n",
       "18202    €1K\n",
       "18203    €1K\n",
       "18204    €1K\n",
       "18205    €1K\n",
       "18206    €1K\n",
       "\n",
       "[18207 rows x 1 columns]"
      ]
     },
     "execution_count": 299,
     "metadata": {},
     "output_type": "execute_result"
    }
   ],
   "source": [
    "df_wage = df[['Wage']]\n",
    "df_wage"
   ]
  },
  {
   "cell_type": "markdown",
   "metadata": {},
   "source": [
    "(r'ID:\\s(\\w+\\s\\w*)+', expand=True)"
   ]
  },
  {
   "cell_type": "code",
   "execution_count": 304,
   "metadata": {
    "scrolled": false
   },
   "outputs": [
    {
     "name": "stderr",
     "output_type": "stream",
     "text": [
      "C:\\ProgramData\\Anaconda3\\lib\\site-packages\\ipykernel_launcher.py:1: SettingWithCopyWarning: \n",
      "A value is trying to be set on a copy of a slice from a DataFrame.\n",
      "Try using .loc[row_indexer,col_indexer] = value instead\n",
      "\n",
      "See the caveats in the documentation: https://pandas.pydata.org/pandas-docs/stable/user_guide/indexing.html#returning-a-view-versus-a-copy\n",
      "  \"\"\"Entry point for launching an IPython kernel.\n",
      "C:\\ProgramData\\Anaconda3\\lib\\site-packages\\ipykernel_launcher.py:2: SettingWithCopyWarning: \n",
      "A value is trying to be set on a copy of a slice from a DataFrame.\n",
      "Try using .loc[row_indexer,col_indexer] = value instead\n",
      "\n",
      "See the caveats in the documentation: https://pandas.pydata.org/pandas-docs/stable/user_guide/indexing.html#returning-a-view-versus-a-copy\n",
      "  \n",
      "C:\\ProgramData\\Anaconda3\\lib\\site-packages\\ipykernel_launcher.py:3: SettingWithCopyWarning: \n",
      "A value is trying to be set on a copy of a slice from a DataFrame.\n",
      "Try using .loc[row_indexer,col_indexer] = value instead\n",
      "\n",
      "See the caveats in the documentation: https://pandas.pydata.org/pandas-docs/stable/user_guide/indexing.html#returning-a-view-versus-a-copy\n",
      "  This is separate from the ipykernel package so we can avoid doing imports until\n",
      "C:\\ProgramData\\Anaconda3\\lib\\site-packages\\ipykernel_launcher.py:4: SettingWithCopyWarning: \n",
      "A value is trying to be set on a copy of a slice from a DataFrame.\n",
      "Try using .loc[row_indexer,col_indexer] = value instead\n",
      "\n",
      "See the caveats in the documentation: https://pandas.pydata.org/pandas-docs/stable/user_guide/indexing.html#returning-a-view-versus-a-copy\n",
      "  after removing the cwd from sys.path.\n"
     ]
    }
   ],
   "source": [
    "df_wage['Wage'] = df_wage['Wage'].replace({'€':''}, regex= True)\n",
    "df_wage['Wage'] = df_wage['Wage'].replace({'K':'000'}, regex= True)\n",
    "df_wage['Wage'] = df_wage['Wage'].replace({'M':'000000'}, regex= True)\n",
    "df_wage['Wage'] = df_wage['Wage'].apply(float)\n"
   ]
  },
  {
   "cell_type": "markdown",
   "metadata": {},
   "source": [
    "def extract_value_from(Wage):\n",
    "    out = Wage.replace('€', '')\n",
    "    if 'M' in out:\n",
    "        out = int(out.replace('M', ''))1000000\n",
    "    elif 'K' in Wage:\n",
    "        out = float(out.replace('K', ''))1000\n",
    "    return int(out)\n",
    "# applying the function to the wage column\n",
    "\n",
    "df_wage['Wage'] = df_wage['Wage'].apply(lambda x: extract_value_from(x))\n",
    "df_wage['Wage'] = df_wage['Wage'].apply(lambda x: extract_value_from(x))\n",
    "\n",
    "df_wage['Wage'].head()"
   ]
  },
  {
   "cell_type": "code",
   "execution_count": 305,
   "metadata": {},
   "outputs": [
    {
     "data": {
      "text/plain": [
       "0        565000.0\n",
       "1        405000.0\n",
       "2        290000.0\n",
       "3        260000.0\n",
       "4        355000.0\n",
       "           ...   \n",
       "18202      1000.0\n",
       "18203      1000.0\n",
       "18204      1000.0\n",
       "18205      1000.0\n",
       "18206      1000.0\n",
       "Name: Wage, Length: 18207, dtype: float64"
      ]
     },
     "execution_count": 305,
     "metadata": {},
     "output_type": "execute_result"
    }
   ],
   "source": [
    "df_wage['Wage']"
   ]
  },
  {
   "cell_type": "code",
   "execution_count": 306,
   "metadata": {},
   "outputs": [
    {
     "data": {
      "text/html": [
       "<div>\n",
       "<style scoped>\n",
       "    .dataframe tbody tr th:only-of-type {\n",
       "        vertical-align: middle;\n",
       "    }\n",
       "\n",
       "    .dataframe tbody tr th {\n",
       "        vertical-align: top;\n",
       "    }\n",
       "\n",
       "    .dataframe thead th {\n",
       "        text-align: right;\n",
       "    }\n",
       "</style>\n",
       "<table border=\"1\" class=\"dataframe\">\n",
       "  <thead>\n",
       "    <tr style=\"text-align: right;\">\n",
       "      <th></th>\n",
       "      <th>Wage</th>\n",
       "    </tr>\n",
       "  </thead>\n",
       "  <tbody>\n",
       "    <tr>\n",
       "      <th>0</th>\n",
       "      <td>565000.0</td>\n",
       "    </tr>\n",
       "    <tr>\n",
       "      <th>1</th>\n",
       "      <td>405000.0</td>\n",
       "    </tr>\n",
       "    <tr>\n",
       "      <th>2</th>\n",
       "      <td>290000.0</td>\n",
       "    </tr>\n",
       "    <tr>\n",
       "      <th>3</th>\n",
       "      <td>260000.0</td>\n",
       "    </tr>\n",
       "    <tr>\n",
       "      <th>4</th>\n",
       "      <td>355000.0</td>\n",
       "    </tr>\n",
       "    <tr>\n",
       "      <th>...</th>\n",
       "      <td>...</td>\n",
       "    </tr>\n",
       "    <tr>\n",
       "      <th>18202</th>\n",
       "      <td>1000.0</td>\n",
       "    </tr>\n",
       "    <tr>\n",
       "      <th>18203</th>\n",
       "      <td>1000.0</td>\n",
       "    </tr>\n",
       "    <tr>\n",
       "      <th>18204</th>\n",
       "      <td>1000.0</td>\n",
       "    </tr>\n",
       "    <tr>\n",
       "      <th>18205</th>\n",
       "      <td>1000.0</td>\n",
       "    </tr>\n",
       "    <tr>\n",
       "      <th>18206</th>\n",
       "      <td>1000.0</td>\n",
       "    </tr>\n",
       "  </tbody>\n",
       "</table>\n",
       "<p>18207 rows × 1 columns</p>\n",
       "</div>"
      ],
      "text/plain": [
       "           Wage\n",
       "0      565000.0\n",
       "1      405000.0\n",
       "2      290000.0\n",
       "3      260000.0\n",
       "4      355000.0\n",
       "...         ...\n",
       "18202    1000.0\n",
       "18203    1000.0\n",
       "18204    1000.0\n",
       "18205    1000.0\n",
       "18206    1000.0\n",
       "\n",
       "[18207 rows x 1 columns]"
      ]
     },
     "execution_count": 306,
     "metadata": {},
     "output_type": "execute_result"
    }
   ],
   "source": [
    "df_wage"
   ]
  },
  {
   "cell_type": "code",
   "execution_count": null,
   "metadata": {},
   "outputs": [],
   "source": []
  },
  {
   "cell_type": "code",
   "execution_count": null,
   "metadata": {},
   "outputs": [],
   "source": []
  },
  {
   "cell_type": "code",
   "execution_count": null,
   "metadata": {},
   "outputs": [],
   "source": []
  },
  {
   "cell_type": "code",
   "execution_count": null,
   "metadata": {},
   "outputs": [],
   "source": []
  },
  {
   "cell_type": "code",
   "execution_count": null,
   "metadata": {},
   "outputs": [],
   "source": []
  }
 ],
 "metadata": {
  "kernelspec": {
   "display_name": "Python 3",
   "language": "python",
   "name": "python3"
  },
  "language_info": {
   "codemirror_mode": {
    "name": "ipython",
    "version": 3
   },
   "file_extension": ".py",
   "mimetype": "text/x-python",
   "name": "python",
   "nbconvert_exporter": "python",
   "pygments_lexer": "ipython3",
   "version": "3.7.6"
  }
 },
 "nbformat": 4,
 "nbformat_minor": 4
}
